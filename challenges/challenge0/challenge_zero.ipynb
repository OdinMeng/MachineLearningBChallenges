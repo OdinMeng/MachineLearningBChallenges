{
  "cells": [
    {
      "cell_type": "markdown",
      "id": "2adzcfnbRZZY",
      "metadata": {
        "id": "2adzcfnbRZZY"
      },
      "source": [
        "# Challenge $0$\n"
      ]
    },
    {
      "cell_type": "markdown",
      "id": "eccd6e67",
      "metadata": {
        "id": "eccd6e67"
      },
      "source": [
        "## 1. ***Data cleaning with Pandas***\n",
        "\n",
        "Use the library `pandas` to load and clean the required dataset."
      ]
    },
    {
      "cell_type": "code",
      "execution_count": 357,
      "id": "39ae18d1",
      "metadata": {
        "id": "39ae18d1"
      },
      "outputs": [],
      "source": [
        "import numpy as np\n",
        "import matplotlib.pyplot as plt\n",
        "import pandas as pd\n",
        "import os"
      ]
    },
    {
      "cell_type": "markdown",
      "id": "6XPiwcNUPJAw",
      "metadata": {
        "id": "6XPiwcNUPJAw"
      },
      "source": [
        "Obtain the data file"
      ]
    },
    {
      "cell_type": "code",
      "execution_count": 358,
      "id": "AkGFWaHZOi-l",
      "metadata": {
        "colab": {
          "base_uri": "https://localhost:8080/"
        },
        "id": "AkGFWaHZOi-l",
        "outputId": "d3f5701e-813f-4a20-b4f6-9a696a13db68"
      },
      "outputs": [
        {
          "data": {
            "text/plain": [
              "'if os.path.isfile(FFILE):\\n    print(\"File already exists\")\\n    if os.access(FFILE, os.R_OK):\\n        print (\"File is readable\")\\n    else:\\n        print (\"File is not readable, removing it and downloading again\")\\n        !rm FFILE\\n        !curl \"https://raw.github.com/alexdepremia/ML_IADA_UTs/main/challenge_0/50_Startups.csv\"\\nelse:\\n    print(\"Either the file is missing or not readable, download it\")\\n    !curl \"https://raw.github.com/alexdepremia/ML_IADA_UTs/main/challenge_0/50_Startups.csv\"\\n    '"
            ]
          },
          "execution_count": 358,
          "metadata": {},
          "output_type": "execute_result"
        }
      ],
      "source": [
        "FFILE = './50_Startups.csv'\n",
        "\"\"\"if os.path.isfile(FFILE):\n",
        "    print(\"File already exists\")\n",
        "    if os.access(FFILE, os.R_OK):\n",
        "        print (\"File is readable\")\n",
        "    else:\n",
        "        print (\"File is not readable, removing it and downloading again\")\n",
        "        !rm FFILE\n",
        "        !curl \"https://raw.github.com/alexdepremia/ML_IADA_UTs/main/challenge_0/50_Startups.csv\"\n",
        "else:\n",
        "    print(\"Either the file is missing or not readable, download it\")\n",
        "    !curl \"https://raw.github.com/alexdepremia/ML_IADA_UTs/main/challenge_0/50_Startups.csv\"\n",
        "    \"\"\""
      ]
    },
    {
      "cell_type": "markdown",
      "id": "1b665f1c",
      "metadata": {},
      "source": [
        "Nota: ho scaricato il dataset manualmente>"
      ]
    },
    {
      "cell_type": "code",
      "execution_count": 359,
      "id": "984f3c35",
      "metadata": {
        "id": "984f3c35"
      },
      "outputs": [],
      "source": [
        "import pandas as pd\n",
        "\n",
        "# Load the dataset using Pandas\n",
        "data = pd.read_csv(f'./data/{FFILE}')\n",
        "\n",
        "# Extracting the features (independent variables) and labels (dependent variable)\n",
        "# Features (X) are taken from all columns except the last two\n",
        "features = data.iloc[:, :-2].values\n",
        "\n",
        "# Labels (y) are taken from the third column (index 3, considering the 0-based index in Python)\n",
        "labels = data.iloc[:, 3].values\n",
        "\n",
        "df = pd.DataFrame(data)"
      ]
    },
    {
      "cell_type": "code",
      "execution_count": 360,
      "id": "d4ef5d4c",
      "metadata": {
        "colab": {
          "base_uri": "https://localhost:8080/"
        },
        "id": "d4ef5d4c",
        "outputId": "cf3c7846-be10-4336-c752-ab72ab27446f"
      },
      "outputs": [
        {
          "data": {
            "text/plain": [
              "array(['New York', 'California', 'Florida', 'New York', 'Florida',\n",
              "       'New York', 'California', 'Florida', 'New York', 'California',\n",
              "       'Florida', 'California', 'Florida', 'California', 'Florida',\n",
              "       'New York', 'California', 'New York', 'Florida', 'New York',\n",
              "       'California', 'New York', 'Florida', 'Florida', 'New York',\n",
              "       'California', 'Florida', 'New York', 'Florida', 'New York',\n",
              "       'Florida', 'New York', 'California', 'Florida', 'California',\n",
              "       'New York', 'Florida', 'California', 'New York', 'California',\n",
              "       'California', 'Florida', 'California', 'New York', 'California',\n",
              "       'New York', 'Florida', 'California', 'New York', 'California'],\n",
              "      dtype=object)"
            ]
          },
          "execution_count": 360,
          "metadata": {},
          "output_type": "execute_result"
        }
      ],
      "source": [
        "labels"
      ]
    },
    {
      "cell_type": "markdown",
      "id": "6c52b5bb",
      "metadata": {
        "id": "6c52b5bb"
      },
      "source": [
        "***Play with data***"
      ]
    },
    {
      "cell_type": "code",
      "execution_count": 361,
      "id": "6bc66e09",
      "metadata": {
        "colab": {
          "base_uri": "https://localhost:8080/"
        },
        "id": "6bc66e09",
        "outputId": "b6caed56-df56-4145-e1e3-74da105f824a",
        "scrolled": true
      },
      "outputs": [
        {
          "data": {
            "text/plain": [
              "(50, 5)"
            ]
          },
          "execution_count": 361,
          "metadata": {},
          "output_type": "execute_result"
        }
      ],
      "source": [
        "df.shape"
      ]
    },
    {
      "cell_type": "code",
      "execution_count": 362,
      "id": "9f5107f7",
      "metadata": {
        "colab": {
          "base_uri": "https://localhost:8080/",
          "height": 263
        },
        "id": "9f5107f7",
        "outputId": "5bb6e213-9082-45a4-b49d-515803201e70"
      },
      "outputs": [
        {
          "data": {
            "text/html": [
              "<div>\n",
              "<style scoped>\n",
              "    .dataframe tbody tr th:only-of-type {\n",
              "        vertical-align: middle;\n",
              "    }\n",
              "\n",
              "    .dataframe tbody tr th {\n",
              "        vertical-align: top;\n",
              "    }\n",
              "\n",
              "    .dataframe thead th {\n",
              "        text-align: right;\n",
              "    }\n",
              "</style>\n",
              "<table border=\"1\" class=\"dataframe\">\n",
              "  <thead>\n",
              "    <tr style=\"text-align: right;\">\n",
              "      <th></th>\n",
              "      <th>R&amp;D Spend</th>\n",
              "      <th>Administration</th>\n",
              "      <th>Marketing Spend</th>\n",
              "      <th>State</th>\n",
              "      <th>Profit</th>\n",
              "    </tr>\n",
              "  </thead>\n",
              "  <tbody>\n",
              "    <tr>\n",
              "      <th>0</th>\n",
              "      <td>165349.20</td>\n",
              "      <td>136897.80</td>\n",
              "      <td>471784.10</td>\n",
              "      <td>New York</td>\n",
              "      <td>192261.83</td>\n",
              "    </tr>\n",
              "    <tr>\n",
              "      <th>1</th>\n",
              "      <td>162597.70</td>\n",
              "      <td>151377.59</td>\n",
              "      <td>443898.53</td>\n",
              "      <td>California</td>\n",
              "      <td>191792.06</td>\n",
              "    </tr>\n",
              "    <tr>\n",
              "      <th>2</th>\n",
              "      <td>153441.51</td>\n",
              "      <td>101145.55</td>\n",
              "      <td>407934.54</td>\n",
              "      <td>Florida</td>\n",
              "      <td>191050.39</td>\n",
              "    </tr>\n",
              "    <tr>\n",
              "      <th>3</th>\n",
              "      <td>144372.41</td>\n",
              "      <td>118671.85</td>\n",
              "      <td>383199.62</td>\n",
              "      <td>New York</td>\n",
              "      <td>182901.99</td>\n",
              "    </tr>\n",
              "    <tr>\n",
              "      <th>4</th>\n",
              "      <td>142107.34</td>\n",
              "      <td>91391.77</td>\n",
              "      <td>366168.42</td>\n",
              "      <td>Florida</td>\n",
              "      <td>166187.94</td>\n",
              "    </tr>\n",
              "  </tbody>\n",
              "</table>\n",
              "</div>"
            ],
            "text/plain": [
              "   R&D Spend  Administration  Marketing Spend       State     Profit\n",
              "0  165349.20       136897.80        471784.10    New York  192261.83\n",
              "1  162597.70       151377.59        443898.53  California  191792.06\n",
              "2  153441.51       101145.55        407934.54     Florida  191050.39\n",
              "3  144372.41       118671.85        383199.62    New York  182901.99\n",
              "4  142107.34        91391.77        366168.42     Florida  166187.94"
            ]
          },
          "execution_count": 362,
          "metadata": {},
          "output_type": "execute_result"
        }
      ],
      "source": [
        "df.replace(to_replace = 0.00, value = df.mean(axis=0, numeric_only=True), inplace=True)  # inject the mean of the column when value is 0\n",
        "df.head()"
      ]
    },
    {
      "cell_type": "markdown",
      "id": "c-RZI0p4Q7TW",
      "metadata": {
        "id": "c-RZI0p4Q7TW"
      },
      "source": [
        " **`df.replace()` function:**\n",
        "   - This function is used to replace specific values within a DataFrame (`df`) with another value.\n",
        "   - The parameters used are:\n",
        "     - `to_replace=0.00`: This specifies the value in the DataFrame that needs to be replaced, in this case, `0.00`.\n",
        "     - `value=df.mean(axis=0)`: This sets the replacement value for the matched condition. Here, `df.mean(axis=0)` calculates the mean for each column along the rows (axis=0) of the DataFrame `df`. The mean value for each column will replace the `0.00` values.\n",
        "     - `inplace=True`: This parameter ensures that the modification is done directly on the original DataFrame (`df`) without creating a new DataFrame. If `inplace` is set to `True`, the original DataFrame is modified."
      ]
    },
    {
      "cell_type": "markdown",
      "id": "3bfef008",
      "metadata": {
        "id": "3bfef008"
      },
      "source": [
        "***Select two categories for binary classification***"
      ]
    },
    {
      "cell_type": "code",
      "execution_count": 363,
      "id": "57f10ca0",
      "metadata": {
        "id": "57f10ca0"
      },
      "outputs": [],
      "source": [
        "df_sel=df[(df.State==\"California\") | (df.State==\"Florida\")]"
      ]
    },
    {
      "cell_type": "code",
      "execution_count": 364,
      "id": "add6c146",
      "metadata": {
        "colab": {
          "base_uri": "https://localhost:8080/",
          "height": 206
        },
        "id": "add6c146",
        "outputId": "0f681332-4913-47f8-8640-f7db53b8b7e8"
      },
      "outputs": [
        {
          "data": {
            "text/html": [
              "<div>\n",
              "<style scoped>\n",
              "    .dataframe tbody tr th:only-of-type {\n",
              "        vertical-align: middle;\n",
              "    }\n",
              "\n",
              "    .dataframe tbody tr th {\n",
              "        vertical-align: top;\n",
              "    }\n",
              "\n",
              "    .dataframe thead th {\n",
              "        text-align: right;\n",
              "    }\n",
              "</style>\n",
              "<table border=\"1\" class=\"dataframe\">\n",
              "  <thead>\n",
              "    <tr style=\"text-align: right;\">\n",
              "      <th></th>\n",
              "      <th>R&amp;D Spend</th>\n",
              "      <th>Administration</th>\n",
              "      <th>Marketing Spend</th>\n",
              "      <th>State</th>\n",
              "      <th>Profit</th>\n",
              "    </tr>\n",
              "  </thead>\n",
              "  <tbody>\n",
              "    <tr>\n",
              "      <th>1</th>\n",
              "      <td>162597.70</td>\n",
              "      <td>151377.59</td>\n",
              "      <td>443898.53</td>\n",
              "      <td>California</td>\n",
              "      <td>191792.06</td>\n",
              "    </tr>\n",
              "    <tr>\n",
              "      <th>2</th>\n",
              "      <td>153441.51</td>\n",
              "      <td>101145.55</td>\n",
              "      <td>407934.54</td>\n",
              "      <td>Florida</td>\n",
              "      <td>191050.39</td>\n",
              "    </tr>\n",
              "    <tr>\n",
              "      <th>4</th>\n",
              "      <td>142107.34</td>\n",
              "      <td>91391.77</td>\n",
              "      <td>366168.42</td>\n",
              "      <td>Florida</td>\n",
              "      <td>166187.94</td>\n",
              "    </tr>\n",
              "    <tr>\n",
              "      <th>6</th>\n",
              "      <td>134615.46</td>\n",
              "      <td>147198.87</td>\n",
              "      <td>127716.82</td>\n",
              "      <td>California</td>\n",
              "      <td>156122.51</td>\n",
              "    </tr>\n",
              "    <tr>\n",
              "      <th>7</th>\n",
              "      <td>130298.13</td>\n",
              "      <td>145530.06</td>\n",
              "      <td>323876.68</td>\n",
              "      <td>Florida</td>\n",
              "      <td>155752.60</td>\n",
              "    </tr>\n",
              "  </tbody>\n",
              "</table>\n",
              "</div>"
            ],
            "text/plain": [
              "   R&D Spend  Administration  Marketing Spend       State     Profit\n",
              "1  162597.70       151377.59        443898.53  California  191792.06\n",
              "2  153441.51       101145.55        407934.54     Florida  191050.39\n",
              "4  142107.34        91391.77        366168.42     Florida  166187.94\n",
              "6  134615.46       147198.87        127716.82  California  156122.51\n",
              "7  130298.13       145530.06        323876.68     Florida  155752.60"
            ]
          },
          "execution_count": 364,
          "metadata": {},
          "output_type": "execute_result"
        }
      ],
      "source": [
        "df_sel.head() # column title and first rows of the dataset"
      ]
    },
    {
      "cell_type": "code",
      "execution_count": 365,
      "id": "32984bcc",
      "metadata": {
        "colab": {
          "base_uri": "https://localhost:8080/"
        },
        "id": "32984bcc",
        "outputId": "5d110736-c5ca-4ee5-dd89-2fd922a4c08c"
      },
      "outputs": [
        {
          "data": {
            "text/plain": [
              "R&D Spend          float64\n",
              "Administration     float64\n",
              "Marketing Spend    float64\n",
              "State               object\n",
              "Profit             float64\n",
              "dtype: object"
            ]
          },
          "execution_count": 365,
          "metadata": {},
          "output_type": "execute_result"
        }
      ],
      "source": [
        "df_sel.dtypes # type of each column"
      ]
    },
    {
      "cell_type": "markdown",
      "id": "0784375e",
      "metadata": {
        "id": "0784375e"
      },
      "source": [
        "***Encode categorical data***\n",
        "\n",
        "One-hot encoding of categorical feature _State_\n",
        "\n",
        "One-Hot Encoding is a technique used in machine learning to handle categorical variables by transforming them into a format that can be easily utilized by algorithms.\n",
        "\n",
        "Imagine having a categorical variable, such as colors: red, green, and blue. With One-Hot Encoding, each color becomes a new binary column. If an observation has a specific color, the column corresponding to that color will be set to 1, while the other columns will be set to 0.\n",
        "\n",
        "For example:\n",
        "- If you have categories \"red\", \"green\", \"blue\", and you want to encode them using One-Hot Encoding:\n",
        "  - \"red\" becomes [1, 0, 0]\n",
        "  - \"green\" becomes [0, 1, 0]\n",
        "  - \"blue\" becomes [0, 0, 1]\n",
        "\n",
        "This helps machine learning algorithms to understand and work with these categorical variables more effectively, as it doesn't impose an order or hierarchy among the categories but rather represents them in a form that the algorithm can interpret more efficiently."
      ]
    },
    {
      "cell_type": "code",
      "execution_count": 366,
      "id": "0a6b154f",
      "metadata": {
        "id": "0a6b154f"
      },
      "outputs": [],
      "source": [
        "df_one = pd.get_dummies(df_sel[\"State\"], dtype=int)"
      ]
    },
    {
      "cell_type": "code",
      "execution_count": 367,
      "id": "3f282229",
      "metadata": {
        "colab": {
          "base_uri": "https://localhost:8080/",
          "height": 206
        },
        "id": "3f282229",
        "outputId": "af6ae211-c29f-4e55-e9f3-02fded7df40c",
        "scrolled": true
      },
      "outputs": [
        {
          "data": {
            "text/html": [
              "<div>\n",
              "<style scoped>\n",
              "    .dataframe tbody tr th:only-of-type {\n",
              "        vertical-align: middle;\n",
              "    }\n",
              "\n",
              "    .dataframe tbody tr th {\n",
              "        vertical-align: top;\n",
              "    }\n",
              "\n",
              "    .dataframe thead th {\n",
              "        text-align: right;\n",
              "    }\n",
              "</style>\n",
              "<table border=\"1\" class=\"dataframe\">\n",
              "  <thead>\n",
              "    <tr style=\"text-align: right;\">\n",
              "      <th></th>\n",
              "      <th>California</th>\n",
              "      <th>Florida</th>\n",
              "    </tr>\n",
              "  </thead>\n",
              "  <tbody>\n",
              "    <tr>\n",
              "      <th>1</th>\n",
              "      <td>1</td>\n",
              "      <td>0</td>\n",
              "    </tr>\n",
              "    <tr>\n",
              "      <th>2</th>\n",
              "      <td>0</td>\n",
              "      <td>1</td>\n",
              "    </tr>\n",
              "    <tr>\n",
              "      <th>4</th>\n",
              "      <td>0</td>\n",
              "      <td>1</td>\n",
              "    </tr>\n",
              "    <tr>\n",
              "      <th>6</th>\n",
              "      <td>1</td>\n",
              "      <td>0</td>\n",
              "    </tr>\n",
              "    <tr>\n",
              "      <th>7</th>\n",
              "      <td>0</td>\n",
              "      <td>1</td>\n",
              "    </tr>\n",
              "  </tbody>\n",
              "</table>\n",
              "</div>"
            ],
            "text/plain": [
              "   California  Florida\n",
              "1           1        0\n",
              "2           0        1\n",
              "4           0        1\n",
              "6           1        0\n",
              "7           0        1"
            ]
          },
          "execution_count": 367,
          "metadata": {},
          "output_type": "execute_result"
        }
      ],
      "source": [
        "df_one.head()"
      ]
    },
    {
      "cell_type": "code",
      "execution_count": 368,
      "id": "74e5d9d7",
      "metadata": {
        "id": "74e5d9d7"
      },
      "outputs": [
        {
          "data": {
            "text/html": [
              "<div>\n",
              "<style scoped>\n",
              "    .dataframe tbody tr th:only-of-type {\n",
              "        vertical-align: middle;\n",
              "    }\n",
              "\n",
              "    .dataframe tbody tr th {\n",
              "        vertical-align: top;\n",
              "    }\n",
              "\n",
              "    .dataframe thead th {\n",
              "        text-align: right;\n",
              "    }\n",
              "</style>\n",
              "<table border=\"1\" class=\"dataframe\">\n",
              "  <thead>\n",
              "    <tr style=\"text-align: right;\">\n",
              "      <th></th>\n",
              "      <th>State</th>\n",
              "      <th>R&amp;D Spend</th>\n",
              "      <th>Administration</th>\n",
              "      <th>Marketing Spend</th>\n",
              "      <th>Profit</th>\n",
              "    </tr>\n",
              "  </thead>\n",
              "  <tbody>\n",
              "    <tr>\n",
              "      <th>1</th>\n",
              "      <td>1</td>\n",
              "      <td>162597.70</td>\n",
              "      <td>151377.59</td>\n",
              "      <td>443898.53</td>\n",
              "      <td>191792.06</td>\n",
              "    </tr>\n",
              "    <tr>\n",
              "      <th>2</th>\n",
              "      <td>0</td>\n",
              "      <td>153441.51</td>\n",
              "      <td>101145.55</td>\n",
              "      <td>407934.54</td>\n",
              "      <td>191050.39</td>\n",
              "    </tr>\n",
              "    <tr>\n",
              "      <th>4</th>\n",
              "      <td>0</td>\n",
              "      <td>142107.34</td>\n",
              "      <td>91391.77</td>\n",
              "      <td>366168.42</td>\n",
              "      <td>166187.94</td>\n",
              "    </tr>\n",
              "    <tr>\n",
              "      <th>6</th>\n",
              "      <td>1</td>\n",
              "      <td>134615.46</td>\n",
              "      <td>147198.87</td>\n",
              "      <td>127716.82</td>\n",
              "      <td>156122.51</td>\n",
              "    </tr>\n",
              "    <tr>\n",
              "      <th>7</th>\n",
              "      <td>0</td>\n",
              "      <td>130298.13</td>\n",
              "      <td>145530.06</td>\n",
              "      <td>323876.68</td>\n",
              "      <td>155752.60</td>\n",
              "    </tr>\n",
              "  </tbody>\n",
              "</table>\n",
              "</div>"
            ],
            "text/plain": [
              "   State  R&D Spend  Administration  Marketing Spend     Profit\n",
              "1      1  162597.70       151377.59        443898.53  191792.06\n",
              "2      0  153441.51       101145.55        407934.54  191050.39\n",
              "4      0  142107.34        91391.77        366168.42  166187.94\n",
              "6      1  134615.46       147198.87        127716.82  156122.51\n",
              "7      0  130298.13       145530.06        323876.68  155752.60"
            ]
          },
          "execution_count": 368,
          "metadata": {},
          "output_type": "execute_result"
        }
      ],
      "source": [
        "# construct the final dataset that you will use for learning and prediction\n",
        "df_fin = pd.concat((df_one, df_sel), axis=1)\n",
        "df_fin = df_fin.drop([\"Florida\"], axis=1)\n",
        "df_fin = df_fin.drop([\"State\"], axis=1)\n",
        "# California is class 1, Florida is class 0\n",
        "df_fin = df_fin.rename(columns={\"California\": \"State\"})\n",
        "df_fin.head()"
      ]
    },
    {
      "cell_type": "code",
      "execution_count": 369,
      "id": "QlHeJ5ePRi6U",
      "metadata": {
        "colab": {
          "base_uri": "https://localhost:8080/",
          "height": 206
        },
        "id": "QlHeJ5ePRi6U",
        "outputId": "9f8088d0-741a-4a67-c74e-90537fef9752"
      },
      "outputs": [
        {
          "data": {
            "text/html": [
              "<div>\n",
              "<style scoped>\n",
              "    .dataframe tbody tr th:only-of-type {\n",
              "        vertical-align: middle;\n",
              "    }\n",
              "\n",
              "    .dataframe tbody tr th {\n",
              "        vertical-align: top;\n",
              "    }\n",
              "\n",
              "    .dataframe thead th {\n",
              "        text-align: right;\n",
              "    }\n",
              "</style>\n",
              "<table border=\"1\" class=\"dataframe\">\n",
              "  <thead>\n",
              "    <tr style=\"text-align: right;\">\n",
              "      <th></th>\n",
              "      <th>State</th>\n",
              "      <th>R&amp;D Spend</th>\n",
              "      <th>Administration</th>\n",
              "      <th>Marketing Spend</th>\n",
              "      <th>Profit</th>\n",
              "    </tr>\n",
              "  </thead>\n",
              "  <tbody>\n",
              "    <tr>\n",
              "      <th>1</th>\n",
              "      <td>1</td>\n",
              "      <td>162597.70</td>\n",
              "      <td>151377.59</td>\n",
              "      <td>443898.53</td>\n",
              "      <td>191792.06</td>\n",
              "    </tr>\n",
              "    <tr>\n",
              "      <th>2</th>\n",
              "      <td>0</td>\n",
              "      <td>153441.51</td>\n",
              "      <td>101145.55</td>\n",
              "      <td>407934.54</td>\n",
              "      <td>191050.39</td>\n",
              "    </tr>\n",
              "    <tr>\n",
              "      <th>4</th>\n",
              "      <td>0</td>\n",
              "      <td>142107.34</td>\n",
              "      <td>91391.77</td>\n",
              "      <td>366168.42</td>\n",
              "      <td>166187.94</td>\n",
              "    </tr>\n",
              "    <tr>\n",
              "      <th>6</th>\n",
              "      <td>1</td>\n",
              "      <td>134615.46</td>\n",
              "      <td>147198.87</td>\n",
              "      <td>127716.82</td>\n",
              "      <td>156122.51</td>\n",
              "    </tr>\n",
              "    <tr>\n",
              "      <th>7</th>\n",
              "      <td>0</td>\n",
              "      <td>130298.13</td>\n",
              "      <td>145530.06</td>\n",
              "      <td>323876.68</td>\n",
              "      <td>155752.60</td>\n",
              "    </tr>\n",
              "  </tbody>\n",
              "</table>\n",
              "</div>"
            ],
            "text/plain": [
              "   State  R&D Spend  Administration  Marketing Spend     Profit\n",
              "1      1  162597.70       151377.59        443898.53  191792.06\n",
              "2      0  153441.51       101145.55        407934.54  191050.39\n",
              "4      0  142107.34        91391.77        366168.42  166187.94\n",
              "6      1  134615.46       147198.87        127716.82  156122.51\n",
              "7      0  130298.13       145530.06        323876.68  155752.60"
            ]
          },
          "execution_count": 369,
          "metadata": {},
          "output_type": "execute_result"
        }
      ],
      "source": [
        "# Constructing the final dataset for learning and prediction\n",
        "\n",
        "# Concatenating two DataFrames 'df_one' and 'df_sel' along columns (axis=1)\n",
        "df_fin = pd.concat((df_one, df_sel), axis=1)\n",
        "\n",
        "# Dropping the column \"Florida\" from the dataset as it was not selected for the final model\n",
        "df_fin = df_fin.drop([\"Florida\"], axis=1)\n",
        "\n",
        "# Dropping the column \"State\" (assumed to be the original 'State' column) as it is not required in its original form\n",
        "df_fin = df_fin.drop([\"State\"], axis=1)\n",
        "\n",
        "# Renaming the column \"California\" to \"State\" as part of preparing the dataset for classification (1 for California, 0 for Florida)\n",
        "df_fin = df_fin.rename(columns={\"California\": \"State\"})\n",
        "\n",
        "# Displaying the initial rows of the modified final dataset\n",
        "df_fin.head()"
      ]
    },
    {
      "cell_type": "markdown",
      "id": "ffced933",
      "metadata": {
        "id": "ffced933"
      },
      "source": [
        "***Normalize***\n",
        "\n",
        "Divide by the absolute value of the maximum so that features are in \\[0, 1\\]"
      ]
    },
    {
      "cell_type": "code",
      "execution_count": 370,
      "id": "eb704286",
      "metadata": {
        "id": "eb704286"
      },
      "outputs": [],
      "source": [
        "def absolute_maximum_scale(series):\n",
        "    return series / series.abs().max()\n",
        "\n",
        "for col in df_fin.columns:\n",
        "    df_fin[col] = absolute_maximum_scale(df_fin[col])"
      ]
    },
    {
      "cell_type": "code",
      "execution_count": 371,
      "id": "5gURVDdmR52t",
      "metadata": {
        "id": "5gURVDdmR52t"
      },
      "outputs": [],
      "source": [
        "def absolute_maximum_scale(series):\n",
        "    \"\"\"\n",
        "    Scale each column in the DataFrame 'df_fin' by dividing the values by the absolute maximum value of that column.\n",
        "\n",
        "    Args:\n",
        "    series: A pandas Series or DataFrame column to be scaled.\n",
        "\n",
        "    Returns:\n",
        "    A scaled version of the input series with values ranging from -1 to 1 based on the maximum absolute value in the column.\n",
        "    \"\"\"\n",
        "    return series / series.abs().max()"
      ]
    },
    {
      "cell_type": "code",
      "execution_count": 372,
      "id": "vGQyMhhuR_5L",
      "metadata": {
        "id": "vGQyMhhuR_5L"
      },
      "outputs": [],
      "source": [
        "# Apply the 'absolute_maximum_scale' function to each column in the DataFrame 'df_fin'\n",
        "for col in df_fin.columns:\n",
        "    df_fin[col] = absolute_maximum_scale(df_fin[col])"
      ]
    },
    {
      "cell_type": "code",
      "execution_count": 373,
      "id": "421fc34c",
      "metadata": {
        "colab": {
          "base_uri": "https://localhost:8080/",
          "height": 206
        },
        "id": "421fc34c",
        "outputId": "4bdb8956-5059-46cd-d5ca-1ff06e2f3f18"
      },
      "outputs": [
        {
          "data": {
            "text/html": [
              "<div>\n",
              "<style scoped>\n",
              "    .dataframe tbody tr th:only-of-type {\n",
              "        vertical-align: middle;\n",
              "    }\n",
              "\n",
              "    .dataframe tbody tr th {\n",
              "        vertical-align: top;\n",
              "    }\n",
              "\n",
              "    .dataframe thead th {\n",
              "        text-align: right;\n",
              "    }\n",
              "</style>\n",
              "<table border=\"1\" class=\"dataframe\">\n",
              "  <thead>\n",
              "    <tr style=\"text-align: right;\">\n",
              "      <th></th>\n",
              "      <th>State</th>\n",
              "      <th>R&amp;D Spend</th>\n",
              "      <th>Administration</th>\n",
              "      <th>Marketing Spend</th>\n",
              "      <th>Profit</th>\n",
              "    </tr>\n",
              "  </thead>\n",
              "  <tbody>\n",
              "    <tr>\n",
              "      <th>1</th>\n",
              "      <td>1.0</td>\n",
              "      <td>1.000000</td>\n",
              "      <td>0.828805</td>\n",
              "      <td>1.000000</td>\n",
              "      <td>1.000000</td>\n",
              "    </tr>\n",
              "    <tr>\n",
              "      <th>2</th>\n",
              "      <td>0.0</td>\n",
              "      <td>0.943688</td>\n",
              "      <td>0.553781</td>\n",
              "      <td>0.918982</td>\n",
              "      <td>0.996133</td>\n",
              "    </tr>\n",
              "    <tr>\n",
              "      <th>4</th>\n",
              "      <td>0.0</td>\n",
              "      <td>0.873981</td>\n",
              "      <td>0.500378</td>\n",
              "      <td>0.824892</td>\n",
              "      <td>0.866501</td>\n",
              "    </tr>\n",
              "    <tr>\n",
              "      <th>6</th>\n",
              "      <td>1.0</td>\n",
              "      <td>0.827905</td>\n",
              "      <td>0.805926</td>\n",
              "      <td>0.287716</td>\n",
              "      <td>0.814020</td>\n",
              "    </tr>\n",
              "    <tr>\n",
              "      <th>7</th>\n",
              "      <td>0.0</td>\n",
              "      <td>0.801353</td>\n",
              "      <td>0.796789</td>\n",
              "      <td>0.729619</td>\n",
              "      <td>0.812091</td>\n",
              "    </tr>\n",
              "  </tbody>\n",
              "</table>\n",
              "</div>"
            ],
            "text/plain": [
              "   State  R&D Spend  Administration  Marketing Spend    Profit\n",
              "1    1.0   1.000000        0.828805         1.000000  1.000000\n",
              "2    0.0   0.943688        0.553781         0.918982  0.996133\n",
              "4    0.0   0.873981        0.500378         0.824892  0.866501\n",
              "6    1.0   0.827905        0.805926         0.287716  0.814020\n",
              "7    0.0   0.801353        0.796789         0.729619  0.812091"
            ]
          },
          "execution_count": 373,
          "metadata": {},
          "output_type": "execute_result"
        }
      ],
      "source": [
        "df_fin.head()"
      ]
    },
    {
      "cell_type": "code",
      "execution_count": 374,
      "id": "XouS4L7nSTzL",
      "metadata": {
        "colab": {
          "base_uri": "https://localhost:8080/"
        },
        "id": "XouS4L7nSTzL",
        "outputId": "3a51a8a4-e09e-437d-c684-165c8b0bb3cf"
      },
      "outputs": [
        {
          "data": {
            "text/plain": [
              "(33, 5)"
            ]
          },
          "execution_count": 374,
          "metadata": {},
          "output_type": "execute_result"
        }
      ],
      "source": [
        "df_fin.shape"
      ]
    },
    {
      "cell_type": "markdown",
      "id": "563bfeca",
      "metadata": {
        "id": "563bfeca"
      },
      "source": [
        "***Classification***"
      ]
    },
    {
      "cell_type": "markdown",
      "id": "5e3406c4",
      "metadata": {
        "id": "5e3406c4"
      },
      "source": [
        "Prepare the dataset:"
      ]
    },
    {
      "cell_type": "code",
      "execution_count": 375,
      "id": "bc04f61d",
      "metadata": {
        "id": "bc04f61d"
      },
      "outputs": [],
      "source": [
        "y = df_fin[\"State\"] # ground truth labels\n",
        "X = df_fin.drop([\"State\"], axis=1) # datapoints features\n"
      ]
    },
    {
      "cell_type": "markdown",
      "id": "7b65051f",
      "metadata": {
        "id": "7b65051f"
      },
      "source": [
        "Train test split\n",
        "\n",
        "$75\\%$ of the data are in the training set, the remaining $25\\%$ constitutes the test set."
      ]
    },
    {
      "cell_type": "code",
      "execution_count": 376,
      "id": "f11e105c",
      "metadata": {
        "id": "f11e105c"
      },
      "outputs": [],
      "source": [
        "from sklearn.model_selection import train_test_split\n",
        "\n",
        "# Splitting the dataset into training and testing sets\n",
        "# X represents the features (independent variables), and y represents the target (dependent variable).\n",
        "\n",
        "# Using train_test_split function to create the training and testing sets\n",
        "# X_train and y_train: Training features and labels\n",
        "# X_test and y_test: Testing features and labels\n",
        "\n",
        "# The 'test_size=0.25' parameter sets the proportion of the dataset to include in the test split. Here, 25% of the data is allocated to the test set.\n",
        "# The 'random_state=0' parameter sets the random seed for reproducibility of the split.\n",
        "\n",
        "X_train, X_test, y_train, y_test = train_test_split(X, y, test_size=0.25, random_state=0)\n"
      ]
    },
    {
      "cell_type": "markdown",
      "id": "5ee09c7e",
      "metadata": {
        "id": "5ee09c7e"
      },
      "source": [
        "Train the Logistic Regression Model"
      ]
    },
    {
      "cell_type": "code",
      "execution_count": 377,
      "id": "1d4b2d20",
      "metadata": {
        "id": "1d4b2d20"
      },
      "outputs": [],
      "source": [
        "from sklearn.linear_model import LogisticRegression"
      ]
    },
    {
      "cell_type": "code",
      "execution_count": 378,
      "id": "S71_9HAkSg7w",
      "metadata": {
        "id": "S71_9HAkSg7w"
      },
      "outputs": [],
      "source": [
        "# Creating a Logistic Regression model with specific parameters\n",
        "# - 'random_state=0' ensures reproducibility by setting the random seed.\n",
        "# - 'solver='lbfgs'' selects the optimization algorithm for the logistic regression.\n",
        "\n",
        "LR = LogisticRegression(random_state=0, solver='lbfgs').fit(X_train, y_train)\n",
        "\n",
        "# Predicting the target variable (y) using the Logistic Regression model on the test set (X_test).\n",
        "predictions = LR.predict(X_test)\n",
        "\n",
        "# Calculating and rounding the accuracy score of the Logistic Regression model on the test set.\n",
        "# The score is calculated by comparing the predicted values to the actual values (y_test).\n",
        "accuracy = round(LR.score(X_test, y_test), 4)\n"
      ]
    },
    {
      "cell_type": "markdown",
      "id": "6f9b7d00",
      "metadata": {
        "id": "6f9b7d00"
      },
      "source": [
        "***Plot results***"
      ]
    },
    {
      "cell_type": "code",
      "execution_count": 379,
      "id": "fae229d6",
      "metadata": {
        "id": "fae229d6"
      },
      "outputs": [
        {
          "data": {
            "image/png": "[encoded data removed]",
            "text/plain": [
              "<Figure size 1000x1000 with 10 Axes>"
            ]
          },
          "metadata": {},
          "output_type": "display_data"
        }
      ],
      "source": [
        "import seaborn as sns\n",
        "\n",
        "# Plot pairplot of the dataset to see if there are correlations between the variables\n",
        "g = sns.PairGrid(pd.concat([X,y]), hue=\"State\", corner=True)\n",
        "g.map_lower(sns.scatterplot)\n",
        "plt.suptitle(\"Pairplot of Dataset\")\n",
        "plt.tight_layout()\n",
        "plt.show()"
      ]
    },
    {
      "cell_type": "code",
      "execution_count": 380,
      "id": "d6ed3f73",
      "metadata": {},
      "outputs": [],
      "source": [
        "X = X.values\n",
        "y = y.values"
      ]
    },
    {
      "cell_type": "code",
      "execution_count": 381,
      "id": "c5cb9df6",
      "metadata": {},
      "outputs": [
        {
          "data": {
            "image/png": "[encoded data removed]",
            "text/plain": [
              "<Figure size 640x480 with 1 Axes>"
            ]
          },
          "metadata": {},
          "output_type": "display_data"
        }
      ],
      "source": [
        "# Plot Confusion Matrix\n",
        "from sklearn.metrics import confusion_matrix\n",
        "M = confusion_matrix(y_test, predictions)\n",
        "\n",
        "sns.heatmap(M, annot=True, cbar=False)\n",
        "plt.suptitle(\"Confusion Matrix of LR on Test Data\")\n",
        "plt.show()"
      ]
    },
    {
      "cell_type": "code",
      "execution_count": 382,
      "id": "30c14a76",
      "metadata": {},
      "outputs": [
        {
          "data": {
            "image/png": "[encoded data removed]",
            "text/plain": [
              "<Figure size 640x480 with 1 Axes>"
            ]
          },
          "metadata": {},
          "output_type": "display_data"
        }
      ],
      "source": [
        "# Plot Confusion Matrix\n",
        "\n",
        "y_pred_train = LR.predict(X_train)\n",
        "\n",
        "from sklearn.metrics import confusion_matrix\n",
        "M = confusion_matrix(y_train, y_pred_train)\n",
        "\n",
        "sns.heatmap(M, annot=True, cbar=False)\n",
        "plt.suptitle(\"Confusion Matrix of LR on Train Data\")\n",
        "plt.show()"
      ]
    },
    {
      "cell_type": "markdown",
      "id": "0a2a78f4",
      "metadata": {
        "id": "0a2a78f4"
      },
      "source": [
        "***Add regularization***\n",
        "\n",
        "Implement from scratch the regularized logistic regression model (with all the regularization techniques seen during the course)."
      ]
    },
    {
      "cell_type": "markdown",
      "id": "89c6bdb1",
      "metadata": {},
      "source": [
        "We have seen:\n",
        "- L1 Regularization (LASSO)\n",
        "- L2 Regularization (Ridge)\n",
        "- Elastic Net Regularization \n"
      ]
    },
    {
      "cell_type": "code",
      "execution_count": 383,
      "id": "61892376",
      "metadata": {},
      "outputs": [],
      "source": [
        "# Define Loss Function for Logistic Regression\n",
        "\n",
        "def OLSGradient(X, y, w, points):\n",
        "    return (-2/points)*((y-X@w)@X)"
      ]
    },
    {
      "cell_type": "code",
      "execution_count": 384,
      "id": "88b91683",
      "metadata": {},
      "outputs": [],
      "source": [
        "# L1 Regularizer\n",
        "import scipy.linalg as LA\n",
        "\n",
        "def L1_subgradient(z):\n",
        "    \"\"\"\n",
        "    Compute the subgradient of the absolute value function element-wise.\n",
        "\n",
        "    Parameters:\n",
        "    ----------\n",
        "    z : array-like\n",
        "        Input array for which the subgradient is calculated.\n",
        "\n",
        "    Returns:\n",
        "    ----------\n",
        "    g : array-like\n",
        "        Subgradient of the absolute value function applied element-wise to `z`.\n",
        "    \"\"\"\n",
        "    # Create an array g of the same shape as z, initialized with all 1s.\n",
        "    g = np.ones(z.shape)\n",
        "\n",
        "    # Check each element of z.\n",
        "    for i in range(z.shape[0]):\n",
        "        # If the element is negative, set the corresponding element in g to -1.\n",
        "        if z[i] < 0.:\n",
        "            g[i] = -1.0\n",
        "\n",
        "    # Return the resulting array g, representing the subgradient.\n",
        "    return g\n",
        "\n",
        "def LassoGradient(w, lam):\n",
        "    return lam * L1_subgradient(w)\n",
        "\n",
        "# L2 Regularizer\n",
        "def RidgeGradient(w, lam):\n",
        "    return 2*lam*w"
      ]
    },
    {
      "cell_type": "code",
      "execution_count": 385,
      "id": "f992163d",
      "metadata": {},
      "outputs": [],
      "source": [
        "# Elastic Net\n",
        "def ElasticNetGradient(w, lr, l):\n",
        "    \"\"\"\n",
        "    Calculate the gradient for Elastic Net regularization.\n",
        "\n",
        "    Parameters\n",
        "    ----------\n",
        "    lr : float\n",
        "        Convex combination parameter (controls L1 vs. L2 regularization).\n",
        "    l : float\n",
        "        Regularization strength parameter.\n",
        "    points : int\n",
        "        Number of data points.\n",
        "\n",
        "    Returns\n",
        "    -------\n",
        "    gradient : array of float of dim d\n",
        "        Gradient of the Elastic Net regularization term.\n",
        "    \"\"\"\n",
        "    return (1 - lr) * RidgeGradient(w, l) + lr * LassoGradient(w, l)"
      ]
    },
    {
      "cell_type": "code",
      "execution_count": 420,
      "id": "68a3e1fa",
      "metadata": {
        "id": "68a3e1fa"
      },
      "outputs": [],
      "source": [
        "# Generalized Gradient Descent:\n",
        "from typing import Union, Literal, List\n",
        "\n",
        "def GD_LR(X: np.array, \n",
        "          y: np.array, \n",
        "          iter: int, \n",
        "          eta: float, \n",
        "          reg: Union[Literal[\"lasso\"], Literal[\"ridge\"], Literal[\"elasticnet\"], None], \n",
        "          lam: List[int]) -> np.array:\n",
        "    \"\"\"\n",
        "    Trains a Logistic Regression on the dataset X on the classes y.\n",
        "\n",
        "    Parameters:\n",
        "    - iter: numbers of iterations\n",
        "    - eta: learning rate\n",
        "    - reg: regularization factor. represented as a string, and it can be:\n",
        "        - lasso: uses L1 norm regularization\n",
        "        - ridge: uses L2 norm regularization\n",
        "        - elasticnet: uses Elastic Net regularization\n",
        "    - lam: regularization coefficient (depends on the regularizator used)\n",
        "\n",
        "    Returns:\n",
        "    - W: weight of the logistic regressor\n",
        "    \"\"\"\n",
        "    try:\n",
        "        X = X.values\n",
        "        y = y.values\n",
        "    except:\n",
        "        pass\n",
        "    \n",
        "    d = len(X[0]) # get dimension of the dataset\n",
        "\n",
        "\n",
        "    w = np.zeros(d)          # Initialize weights with zeros\n",
        "\n",
        "    for i in range(iter):\n",
        "        # Update weights accoring to GD\n",
        "        reg_fac = 0\n",
        "\n",
        "        if reg == \"lasso\":\n",
        "            reg_fac = LassoGradient(w, *lam)\n",
        "\n",
        "        elif reg == \"ridge\": \n",
        "            reg_fac = RidgeGradient(w, *lam)\n",
        "\n",
        "        elif reg == \"elasticnet\":\n",
        "            reg_fac = ElasticNetGradient(w, *lam)\n",
        "\n",
        "        elif reg == None:\n",
        "            pass\n",
        "\n",
        "        else:\n",
        "            print(\"Warning: regularizator passed is invalid. It has been treated as None.\")\n",
        "\n",
        "        w = w - eta*(OLSGradient(X, y, w, len(X)) + reg_fac)\n",
        "\n",
        "    return w"
      ]
    },
    {
      "cell_type": "code",
      "execution_count": 421,
      "id": "954a7eba",
      "metadata": {},
      "outputs": [],
      "source": [
        "eta = 0.001\n",
        "lam = [0.1]\n",
        "lam_2 = [0.5, 0.1]\n",
        "n = 1000\n",
        "\n",
        "# Define Parameters for each model\n",
        "L1_LR = GD_LR(X_test, y_test, n, eta, \"lasso\", lam)\n",
        "L2_LR = GD_LR(X_test, y_test, n, eta, \"ridge\", lam)\n",
        "EN_LR = GD_LR(X_test, y_test, n, eta, \"elasticnet\", lam_2)"
      ]
    },
    {
      "cell_type": "code",
      "execution_count": 422,
      "id": "bc290400",
      "metadata": {},
      "outputs": [],
      "source": [
        "def predict(w, x, threshold = 0.5):\n",
        "    \"\"\"\n",
        "    Given a datapoint x, predict his target class according to the weight w\n",
        "    \"\"\"\n",
        "    print(type(x))\n",
        "    print(type(w))\n",
        "    logit = (np.exp(x @ w))/(1+np.exp(x @ w))\n",
        "\n",
        "    converted = 1 if logit>=threshold else 0\n",
        "    \n",
        "    return converted"
      ]
    },
    {
      "cell_type": "markdown",
      "id": "7a05776d",
      "metadata": {
        "id": "7a05776d"
      },
      "source": [
        "***Model assessment***\n",
        "\n",
        "Given true and predicted values, compute the most common classification metrics to assess the quality of your predictions."
      ]
    },
    {
      "cell_type": "code",
      "execution_count": 423,
      "id": "b3a864f9",
      "metadata": {
        "id": "b3a864f9"
      },
      "outputs": [
        {
          "name": "stdout",
          "output_type": "stream",
          "text": [
            "              precision    recall  f1-score   support\n",
            "\n",
            "  California       0.33      1.00      0.50         3\n",
            "     Florida       0.00      0.00      0.00         6\n",
            "\n",
            "    accuracy                           0.33         9\n",
            "   macro avg       0.17      0.50      0.25         9\n",
            "weighted avg       0.11      0.33      0.17         9\n",
            "\n"
          ]
        },
        {
          "name": "stderr",
          "output_type": "stream",
          "text": [
            "c:\\Users\\ACER\\anaconda3\\Lib\\site-packages\\sklearn\\metrics\\_classification.py:1531: UndefinedMetricWarning: Precision is ill-defined and being set to 0.0 in labels with no predicted samples. Use `zero_division` parameter to control this behavior.\n",
            "  _warn_prf(average, modifier, f\"{metric.capitalize()} is\", len(result))\n",
            "c:\\Users\\ACER\\anaconda3\\Lib\\site-packages\\sklearn\\metrics\\_classification.py:1531: UndefinedMetricWarning: Precision is ill-defined and being set to 0.0 in labels with no predicted samples. Use `zero_division` parameter to control this behavior.\n",
            "  _warn_prf(average, modifier, f\"{metric.capitalize()} is\", len(result))\n",
            "c:\\Users\\ACER\\anaconda3\\Lib\\site-packages\\sklearn\\metrics\\_classification.py:1531: UndefinedMetricWarning: Precision is ill-defined and being set to 0.0 in labels with no predicted samples. Use `zero_division` parameter to control this behavior.\n",
            "  _warn_prf(average, modifier, f\"{metric.capitalize()} is\", len(result))\n"
          ]
        }
      ],
      "source": [
        "from sklearn.metrics import classification_report\n",
        "y_true = y_test\n",
        "y_pred = LR.predict(X_test)\n",
        "\n",
        "target_names = ['California', 'Florida']\n",
        "print(classification_report(y_true, y_pred, target_names=target_names))"
      ]
    },
    {
      "cell_type": "markdown",
      "id": "q8gI_LEMJsB-",
      "metadata": {
        "id": "q8gI_LEMJsB-"
      },
      "source": [
        "Repeat the previous task for regularized logistic regression and compare the results."
      ]
    },
    {
      "cell_type": "code",
      "execution_count": 431,
      "id": "AWSiwxDUJrZz",
      "metadata": {
        "id": "AWSiwxDUJrZz"
      },
      "outputs": [
        {
          "name": "stdout",
          "output_type": "stream",
          "text": [
            "<class 'numpy.ndarray'>\n",
            "<class 'numpy.ndarray'>\n",
            "<class 'numpy.ndarray'>\n",
            "<class 'numpy.ndarray'>\n",
            "<class 'numpy.ndarray'>\n",
            "<class 'numpy.ndarray'>\n",
            "<class 'numpy.ndarray'>\n",
            "<class 'numpy.ndarray'>\n",
            "<class 'numpy.ndarray'>\n",
            "<class 'numpy.ndarray'>\n",
            "<class 'numpy.ndarray'>\n",
            "<class 'numpy.ndarray'>\n",
            "<class 'numpy.ndarray'>\n",
            "<class 'numpy.ndarray'>\n",
            "<class 'numpy.ndarray'>\n",
            "<class 'numpy.ndarray'>\n",
            "<class 'numpy.ndarray'>\n",
            "<class 'numpy.ndarray'>\n",
            "[1, 1, 1, 1, 1, 1, 1, 1, 1]\n",
            "              precision    recall  f1-score   support\n",
            "\n",
            "  California       0.00      0.00      0.00         3\n",
            "     Florida       0.67      1.00      0.80         6\n",
            "\n",
            "    accuracy                           0.67         9\n",
            "   macro avg       0.33      0.50      0.40         9\n",
            "weighted avg       0.44      0.67      0.53         9\n",
            "\n"
          ]
        },
        {
          "name": "stderr",
          "output_type": "stream",
          "text": [
            "c:\\Users\\ACER\\anaconda3\\Lib\\site-packages\\sklearn\\metrics\\_classification.py:1531: UndefinedMetricWarning: Precision is ill-defined and being set to 0.0 in labels with no predicted samples. Use `zero_division` parameter to control this behavior.\n",
            "  _warn_prf(average, modifier, f\"{metric.capitalize()} is\", len(result))\n",
            "c:\\Users\\ACER\\anaconda3\\Lib\\site-packages\\sklearn\\metrics\\_classification.py:1531: UndefinedMetricWarning: Precision is ill-defined and being set to 0.0 in labels with no predicted samples. Use `zero_division` parameter to control this behavior.\n",
            "  _warn_prf(average, modifier, f\"{metric.capitalize()} is\", len(result))\n",
            "c:\\Users\\ACER\\anaconda3\\Lib\\site-packages\\sklearn\\metrics\\_classification.py:1531: UndefinedMetricWarning: Precision is ill-defined and being set to 0.0 in labels with no predicted samples. Use `zero_division` parameter to control this behavior.\n",
            "  _warn_prf(average, modifier, f\"{metric.capitalize()} is\", len(result))\n"
          ]
        },
        {
          "data": {
            "image/png": "[encoded data removed]",
            "text/plain": [
              "<Figure size 640x480 with 1 Axes>"
            ]
          },
          "metadata": {},
          "output_type": "display_data"
        }
      ],
      "source": [
        "# L1 Regularized LR:\n",
        "y_pred_L1 = [predict(L1_LR, x) for x in X_test.values]\n",
        "print(y_pred_L1)\n",
        "print(classification_report(y_true, y_pred_L1, target_names=target_names))\n",
        "\n",
        "M = confusion_matrix(y_true, y_pred_L1)\n",
        "\n",
        "sns.heatmap(M, annot=True, cbar=False,\n",
        "            xticklabels=['Predicted False (FL)', 'Predicted True (CA)'],\n",
        "            yticklabels=['Actual False (FL)', 'Actual True (CA)'])\n",
        "plt.xlabel(\"Prediction\")\n",
        "plt.ylabel(\"Ground Truth\")\n",
        "plt.title(\"L1 Regularized Logistic Regression\")\n",
        "\n",
        "plt.show()"
      ]
    },
    {
      "cell_type": "code",
      "execution_count": 432,
      "id": "f4cef781",
      "metadata": {},
      "outputs": [
        {
          "name": "stdout",
          "output_type": "stream",
          "text": [
            "<class 'numpy.ndarray'>\n",
            "<class 'numpy.ndarray'>\n",
            "<class 'numpy.ndarray'>\n",
            "<class 'numpy.ndarray'>\n",
            "<class 'numpy.ndarray'>\n",
            "<class 'numpy.ndarray'>\n",
            "<class 'numpy.ndarray'>\n",
            "<class 'numpy.ndarray'>\n",
            "<class 'numpy.ndarray'>\n",
            "<class 'numpy.ndarray'>\n",
            "<class 'numpy.ndarray'>\n",
            "<class 'numpy.ndarray'>\n",
            "<class 'numpy.ndarray'>\n",
            "<class 'numpy.ndarray'>\n",
            "<class 'numpy.ndarray'>\n",
            "<class 'numpy.ndarray'>\n",
            "<class 'numpy.ndarray'>\n",
            "<class 'numpy.ndarray'>\n",
            "[1, 1, 1, 1, 1, 1, 1, 1, 1]\n",
            "              precision    recall  f1-score   support\n",
            "\n",
            "  California       0.00      0.00      0.00         3\n",
            "     Florida       0.67      1.00      0.80         6\n",
            "\n",
            "    accuracy                           0.67         9\n",
            "   macro avg       0.33      0.50      0.40         9\n",
            "weighted avg       0.44      0.67      0.53         9\n",
            "\n"
          ]
        },
        {
          "name": "stderr",
          "output_type": "stream",
          "text": [
            "c:\\Users\\ACER\\anaconda3\\Lib\\site-packages\\sklearn\\metrics\\_classification.py:1531: UndefinedMetricWarning: Precision is ill-defined and being set to 0.0 in labels with no predicted samples. Use `zero_division` parameter to control this behavior.\n",
            "  _warn_prf(average, modifier, f\"{metric.capitalize()} is\", len(result))\n",
            "c:\\Users\\ACER\\anaconda3\\Lib\\site-packages\\sklearn\\metrics\\_classification.py:1531: UndefinedMetricWarning: Precision is ill-defined and being set to 0.0 in labels with no predicted samples. Use `zero_division` parameter to control this behavior.\n",
            "  _warn_prf(average, modifier, f\"{metric.capitalize()} is\", len(result))\n",
            "c:\\Users\\ACER\\anaconda3\\Lib\\site-packages\\sklearn\\metrics\\_classification.py:1531: UndefinedMetricWarning: Precision is ill-defined and being set to 0.0 in labels with no predicted samples. Use `zero_division` parameter to control this behavior.\n",
            "  _warn_prf(average, modifier, f\"{metric.capitalize()} is\", len(result))\n"
          ]
        },
        {
          "data": {
            "image/png": "[encoded data removed]",
            "text/plain": [
              "<Figure size 640x480 with 1 Axes>"
            ]
          },
          "metadata": {},
          "output_type": "display_data"
        }
      ],
      "source": [
        "# L2 Regularized LR:\n",
        "y_pred_L2 = [predict(L2_LR, x) for x in X_test.values]\n",
        "print(y_pred_L2)\n",
        "print(classification_report(y_true, y_pred_L2, target_names=target_names))\n",
        "\n",
        "M = confusion_matrix(y_true, y_pred_L2)\n",
        "\n",
        "sns.heatmap(M, annot=True, cbar=False,\n",
        "            xticklabels=['Predicted False (FL)', 'Predicted True (CA)'],\n",
        "            yticklabels=['Actual False (FL)', 'Actual True (CA)'])\n",
        "plt.xlabel(\"Prediction\")\n",
        "plt.ylabel(\"Ground Truth\")\n",
        "plt.title(\"L2 Regularized Logistic Regression\")\n",
        "\n",
        "plt.show()"
      ]
    },
    {
      "cell_type": "code",
      "execution_count": 433,
      "id": "5aeac2e6",
      "metadata": {},
      "outputs": [
        {
          "name": "stdout",
          "output_type": "stream",
          "text": [
            "<class 'numpy.ndarray'>\n",
            "<class 'numpy.ndarray'>\n",
            "<class 'numpy.ndarray'>\n",
            "<class 'numpy.ndarray'>\n",
            "<class 'numpy.ndarray'>\n",
            "<class 'numpy.ndarray'>\n",
            "<class 'numpy.ndarray'>\n",
            "<class 'numpy.ndarray'>\n",
            "<class 'numpy.ndarray'>\n",
            "<class 'numpy.ndarray'>\n",
            "<class 'numpy.ndarray'>\n",
            "<class 'numpy.ndarray'>\n",
            "<class 'numpy.ndarray'>\n",
            "<class 'numpy.ndarray'>\n",
            "<class 'numpy.ndarray'>\n",
            "<class 'numpy.ndarray'>\n",
            "<class 'numpy.ndarray'>\n",
            "<class 'numpy.ndarray'>\n",
            "[1, 1, 1, 1, 1, 1, 1, 1, 1]\n",
            "              precision    recall  f1-score   support\n",
            "\n",
            "  California       0.00      0.00      0.00         3\n",
            "     Florida       0.67      1.00      0.80         6\n",
            "\n",
            "    accuracy                           0.67         9\n",
            "   macro avg       0.33      0.50      0.40         9\n",
            "weighted avg       0.44      0.67      0.53         9\n",
            "\n"
          ]
        },
        {
          "name": "stderr",
          "output_type": "stream",
          "text": [
            "c:\\Users\\ACER\\anaconda3\\Lib\\site-packages\\sklearn\\metrics\\_classification.py:1531: UndefinedMetricWarning: Precision is ill-defined and being set to 0.0 in labels with no predicted samples. Use `zero_division` parameter to control this behavior.\n",
            "  _warn_prf(average, modifier, f\"{metric.capitalize()} is\", len(result))\n",
            "c:\\Users\\ACER\\anaconda3\\Lib\\site-packages\\sklearn\\metrics\\_classification.py:1531: UndefinedMetricWarning: Precision is ill-defined and being set to 0.0 in labels with no predicted samples. Use `zero_division` parameter to control this behavior.\n",
            "  _warn_prf(average, modifier, f\"{metric.capitalize()} is\", len(result))\n",
            "c:\\Users\\ACER\\anaconda3\\Lib\\site-packages\\sklearn\\metrics\\_classification.py:1531: UndefinedMetricWarning: Precision is ill-defined and being set to 0.0 in labels with no predicted samples. Use `zero_division` parameter to control this behavior.\n",
            "  _warn_prf(average, modifier, f\"{metric.capitalize()} is\", len(result))\n"
          ]
        },
        {
          "data": {
            "image/png": "[encoded data removed]",
            "text/plain": [
              "<Figure size 640x480 with 1 Axes>"
            ]
          },
          "metadata": {},
          "output_type": "display_data"
        }
      ],
      "source": [
        "# Elasticned Regularized LR:\n",
        "y_pred_EN = [predict(EN_LR, x) for x in X_test.values]\n",
        "print(y_pred_EN)\n",
        "print(classification_report(y_true, y_pred_EN, target_names=target_names))\n",
        "\n",
        "M = confusion_matrix(y_true, y_pred_EN)\n",
        "\n",
        "sns.heatmap(M, annot=True, cbar=False,\n",
        "            xticklabels=['Predicted False (FL)', 'Predicted True (CA)'],\n",
        "            yticklabels=['Actual False (FL)', 'Actual True (CA)'])\n",
        "plt.xlabel(\"Prediction\")\n",
        "plt.ylabel(\"Ground Truth\")\n",
        "plt.title(\"Elasticnet Regularized Logistic Regression\")\n",
        "\n",
        "plt.show()"
      ]
    },
    {
      "cell_type": "markdown",
      "id": "d208a7b9",
      "metadata": {
        "id": "d208a7b9"
      },
      "source": [
        "***ROC curve***\n",
        "\n",
        "Implement a function for producing the Receiver Operating Characteristic (ROC) curve.\n",
        "\n",
        "Given true and predicted values, plot the ROC curve using your implemented function."
      ]
    },
    {
      "cell_type": "code",
      "execution_count": 438,
      "id": "944188f5",
      "metadata": {
        "id": "944188f5"
      },
      "outputs": [],
      "source": [
        "def ROC(X_test, y_test, w):\n",
        "    \"\"\"\n",
        "    Parameters\n",
        "    ----------\n",
        "    X_test : array of shape (m, d)\n",
        "        Test values to assign to a class\n",
        "    y_test : array of shape (m,)\n",
        "        True labels of predicted data\n",
        "    w : array of shape (d,)\n",
        "        Weight vector obltained after training\n",
        "    \"\"\"\n",
        "\n",
        "    a = np.sort(1/(1+(np.exp(-(X_test @ w)))))   # Tresholds for ROC\n",
        "    TPR = np.ones(len(a))                        # True positive rate\n",
        "    FPR = np.ones(len(a))                        # False positive rate\n",
        "    y_test = y_test.astype(int)                  # True labels\n",
        "\n",
        "    for idx, elem in enumerate(a):\n",
        "        y_pred = np.array([predict(x, w, elem) for x in X_test.values]).astype(int)\n",
        "\n",
        "        TP = np.sum((y_pred == 1) & (y_test == 1))  # True positives\n",
        "        FP = np.sum((y_pred == 1) & (y_test == 0))  # False positives\n",
        "        FN = np.sum((y_pred == 0) & (y_test == 1))  # False negatives\n",
        "        TN = np.sum((y_pred == 0) & (y_test == 0))  # True negatives\n",
        "\n",
        "        TPR[idx] = TP / (TP + FN) if (TP + FN) > 0 else 0  # True Positive Rate\n",
        "        FPR[idx] = FP / (FP + TN) if (FP + TN) > 0 else 0  # False Positive Rate\n",
        "\n",
        "        # TPR[idx] = sum(y_pred[y_test == 1]) / sum(y_test) if sum(y_test) > 0 else 0\n",
        "        # FPR[idx] = sum(y_pred[(np.negative(y_test)+ np.ones(len(y_test))) == 1]) / sum(np.negative(y_test)+ np.ones(len(y_test))) if sum(np.negative(y_test)+ np.ones(len(y_test))) > 0 else 0\n",
        "        \n",
        "    print(f'FPR has {len(FPR)} elements: {FPR}\\n TPR has {len(TPR)} elements: {TPR}')\n",
        "    # Plot the ROC curve\n",
        "    fig, ax = plt.subplots(figsize=(8, 6))\n",
        "    ax.plot(FPR,TPR, label=\"ROC Curve\", color=\"blue\")\n",
        "    ax.plot([0, 1], [0, 1], 'r--', label=\"Random Classifier\")\n",
        "    ax.scatter(FPR, TPR, color = 'blue', label = \"Observations\")\n",
        "    ax.set_xlabel(\"False Positive Rate\")\n",
        "    ax.set_ylabel(\"True Positive Rate\")\n",
        "    ax.set_title(\"ROC Curve\")\n",
        "    ax.legend(loc=\"lower right\")\n",
        "    ax.grid(True)\n",
        "    fig.show()"
      ]
    },
    {
      "cell_type": "code",
      "execution_count": 439,
      "id": "e6376a5e",
      "metadata": {},
      "outputs": [
        {
          "name": "stdout",
          "output_type": "stream",
          "text": [
            "<class 'numpy.ndarray'>\n",
            "<class 'numpy.ndarray'>\n",
            "<class 'numpy.ndarray'>\n",
            "<class 'numpy.ndarray'>\n",
            "<class 'numpy.ndarray'>\n",
            "<class 'numpy.ndarray'>\n",
            "<class 'numpy.ndarray'>\n",
            "<class 'numpy.ndarray'>\n",
            "<class 'numpy.ndarray'>\n",
            "<class 'numpy.ndarray'>\n",
            "<class 'numpy.ndarray'>\n",
            "<class 'numpy.ndarray'>\n",
            "<class 'numpy.ndarray'>\n",
            "<class 'numpy.ndarray'>\n",
            "<class 'numpy.ndarray'>\n",
            "<class 'numpy.ndarray'>\n",
            "<class 'numpy.ndarray'>\n",
            "<class 'numpy.ndarray'>\n",
            "<class 'numpy.ndarray'>\n",
            "<class 'numpy.ndarray'>\n",
            "<class 'numpy.ndarray'>\n",
            "<class 'numpy.ndarray'>\n",
            "<class 'numpy.ndarray'>\n",
            "<class 'numpy.ndarray'>\n",
            "<class 'numpy.ndarray'>\n",
            "<class 'numpy.ndarray'>\n",
            "<class 'numpy.ndarray'>\n",
            "<class 'numpy.ndarray'>\n",
            "<class 'numpy.ndarray'>\n",
            "<class 'numpy.ndarray'>\n",
            "<class 'numpy.ndarray'>\n",
            "<class 'numpy.ndarray'>\n",
            "<class 'numpy.ndarray'>\n",
            "<class 'numpy.ndarray'>\n",
            "<class 'numpy.ndarray'>\n",
            "<class 'numpy.ndarray'>\n",
            "<class 'numpy.ndarray'>\n",
            "<class 'numpy.ndarray'>\n",
            "<class 'numpy.ndarray'>\n",
            "<class 'numpy.ndarray'>\n",
            "<class 'numpy.ndarray'>\n",
            "<class 'numpy.ndarray'>\n",
            "<class 'numpy.ndarray'>\n",
            "<class 'numpy.ndarray'>\n",
            "<class 'numpy.ndarray'>\n",
            "<class 'numpy.ndarray'>\n",
            "<class 'numpy.ndarray'>\n",
            "<class 'numpy.ndarray'>\n",
            "<class 'numpy.ndarray'>\n",
            "<class 'numpy.ndarray'>\n",
            "<class 'numpy.ndarray'>\n",
            "<class 'numpy.ndarray'>\n",
            "<class 'numpy.ndarray'>\n",
            "<class 'numpy.ndarray'>\n",
            "<class 'numpy.ndarray'>\n",
            "<class 'numpy.ndarray'>\n",
            "<class 'numpy.ndarray'>\n",
            "<class 'numpy.ndarray'>\n",
            "<class 'numpy.ndarray'>\n",
            "<class 'numpy.ndarray'>\n",
            "<class 'numpy.ndarray'>\n",
            "<class 'numpy.ndarray'>\n",
            "<class 'numpy.ndarray'>\n",
            "<class 'numpy.ndarray'>\n",
            "<class 'numpy.ndarray'>\n",
            "<class 'numpy.ndarray'>\n",
            "<class 'numpy.ndarray'>\n",
            "<class 'numpy.ndarray'>\n",
            "<class 'numpy.ndarray'>\n",
            "<class 'numpy.ndarray'>\n",
            "<class 'numpy.ndarray'>\n",
            "<class 'numpy.ndarray'>\n",
            "<class 'numpy.ndarray'>\n",
            "<class 'numpy.ndarray'>\n",
            "<class 'numpy.ndarray'>\n",
            "<class 'numpy.ndarray'>\n",
            "<class 'numpy.ndarray'>\n",
            "<class 'numpy.ndarray'>\n",
            "<class 'numpy.ndarray'>\n",
            "<class 'numpy.ndarray'>\n",
            "<class 'numpy.ndarray'>\n",
            "<class 'numpy.ndarray'>\n",
            "<class 'numpy.ndarray'>\n",
            "<class 'numpy.ndarray'>\n",
            "<class 'numpy.ndarray'>\n",
            "<class 'numpy.ndarray'>\n",
            "<class 'numpy.ndarray'>\n",
            "<class 'numpy.ndarray'>\n",
            "<class 'numpy.ndarray'>\n",
            "<class 'numpy.ndarray'>\n",
            "<class 'numpy.ndarray'>\n",
            "<class 'numpy.ndarray'>\n",
            "<class 'numpy.ndarray'>\n",
            "<class 'numpy.ndarray'>\n",
            "<class 'numpy.ndarray'>\n",
            "<class 'numpy.ndarray'>\n",
            "<class 'numpy.ndarray'>\n",
            "<class 'numpy.ndarray'>\n",
            "<class 'numpy.ndarray'>\n",
            "<class 'numpy.ndarray'>\n",
            "<class 'numpy.ndarray'>\n",
            "<class 'numpy.ndarray'>\n",
            "<class 'numpy.ndarray'>\n",
            "<class 'numpy.ndarray'>\n",
            "<class 'numpy.ndarray'>\n",
            "<class 'numpy.ndarray'>\n",
            "<class 'numpy.ndarray'>\n",
            "<class 'numpy.ndarray'>\n",
            "<class 'numpy.ndarray'>\n",
            "<class 'numpy.ndarray'>\n",
            "<class 'numpy.ndarray'>\n",
            "<class 'numpy.ndarray'>\n",
            "<class 'numpy.ndarray'>\n",
            "<class 'numpy.ndarray'>\n",
            "<class 'numpy.ndarray'>\n",
            "<class 'numpy.ndarray'>\n",
            "<class 'numpy.ndarray'>\n",
            "<class 'numpy.ndarray'>\n",
            "<class 'numpy.ndarray'>\n",
            "<class 'numpy.ndarray'>\n",
            "<class 'numpy.ndarray'>\n",
            "<class 'numpy.ndarray'>\n",
            "<class 'numpy.ndarray'>\n",
            "<class 'numpy.ndarray'>\n",
            "<class 'numpy.ndarray'>\n",
            "<class 'numpy.ndarray'>\n",
            "<class 'numpy.ndarray'>\n",
            "<class 'numpy.ndarray'>\n",
            "<class 'numpy.ndarray'>\n",
            "<class 'numpy.ndarray'>\n",
            "<class 'numpy.ndarray'>\n",
            "<class 'numpy.ndarray'>\n",
            "<class 'numpy.ndarray'>\n",
            "<class 'numpy.ndarray'>\n",
            "<class 'numpy.ndarray'>\n",
            "<class 'numpy.ndarray'>\n",
            "<class 'numpy.ndarray'>\n",
            "<class 'numpy.ndarray'>\n",
            "<class 'numpy.ndarray'>\n",
            "<class 'numpy.ndarray'>\n",
            "<class 'numpy.ndarray'>\n",
            "<class 'numpy.ndarray'>\n",
            "<class 'numpy.ndarray'>\n",
            "<class 'numpy.ndarray'>\n",
            "<class 'numpy.ndarray'>\n",
            "<class 'numpy.ndarray'>\n",
            "<class 'numpy.ndarray'>\n",
            "<class 'numpy.ndarray'>\n",
            "<class 'numpy.ndarray'>\n",
            "<class 'numpy.ndarray'>\n",
            "<class 'numpy.ndarray'>\n",
            "<class 'numpy.ndarray'>\n",
            "<class 'numpy.ndarray'>\n",
            "<class 'numpy.ndarray'>\n",
            "<class 'numpy.ndarray'>\n",
            "<class 'numpy.ndarray'>\n",
            "<class 'numpy.ndarray'>\n",
            "<class 'numpy.ndarray'>\n",
            "<class 'numpy.ndarray'>\n",
            "<class 'numpy.ndarray'>\n",
            "<class 'numpy.ndarray'>\n",
            "<class 'numpy.ndarray'>\n",
            "FPR has 9 elements: [1.         1.         1.         1.         1.         1.\n",
            " 0.66666667 0.66666667 0.33333333]\n",
            " TPR has 9 elements: [1.         0.83333333 0.5        0.5        0.16666667 0.16666667\n",
            " 0.         0.         0.        ]\n"
          ]
        },
        {
          "name": "stderr",
          "output_type": "stream",
          "text": [
            "C:\\Users\\ACER\\AppData\\Local\\Temp\\ipykernel_124424\\1086795600.py:43: UserWarning: FigureCanvasAgg is non-interactive, and thus cannot be shown\n",
            "  fig.show()\n"
          ]
        },
        {
          "data": {
            "image/png": "[encoded data removed]",
            "text/plain": [
              "<Figure size 800x600 with 1 Axes>"
            ]
          },
          "metadata": {},
          "output_type": "display_data"
        }
      ],
      "source": [
        "ROC(X_test, y_test, EN_LR)"
      ]
    },
    {
      "cell_type": "code",
      "execution_count": 440,
      "id": "2a7afae8",
      "metadata": {},
      "outputs": [
        {
          "name": "stdout",
          "output_type": "stream",
          "text": [
            "<class 'numpy.ndarray'>\n",
            "<class 'numpy.ndarray'>\n",
            "<class 'numpy.ndarray'>\n",
            "<class 'numpy.ndarray'>\n",
            "<class 'numpy.ndarray'>\n",
            "<class 'numpy.ndarray'>\n",
            "<class 'numpy.ndarray'>\n",
            "<class 'numpy.ndarray'>\n",
            "<class 'numpy.ndarray'>\n",
            "<class 'numpy.ndarray'>\n",
            "<class 'numpy.ndarray'>\n",
            "<class 'numpy.ndarray'>\n",
            "<class 'numpy.ndarray'>\n",
            "<class 'numpy.ndarray'>\n",
            "<class 'numpy.ndarray'>\n",
            "<class 'numpy.ndarray'>\n",
            "<class 'numpy.ndarray'>\n",
            "<class 'numpy.ndarray'>\n",
            "<class 'numpy.ndarray'>\n",
            "<class 'numpy.ndarray'>\n",
            "<class 'numpy.ndarray'>\n",
            "<class 'numpy.ndarray'>\n",
            "<class 'numpy.ndarray'>\n",
            "<class 'numpy.ndarray'>\n",
            "<class 'numpy.ndarray'>\n",
            "<class 'numpy.ndarray'>\n",
            "<class 'numpy.ndarray'>\n",
            "<class 'numpy.ndarray'>\n",
            "<class 'numpy.ndarray'>\n",
            "<class 'numpy.ndarray'>\n",
            "<class 'numpy.ndarray'>\n",
            "<class 'numpy.ndarray'>\n",
            "<class 'numpy.ndarray'>\n",
            "<class 'numpy.ndarray'>\n",
            "<class 'numpy.ndarray'>\n",
            "<class 'numpy.ndarray'>\n",
            "<class 'numpy.ndarray'>\n",
            "<class 'numpy.ndarray'>\n",
            "<class 'numpy.ndarray'>\n",
            "<class 'numpy.ndarray'>\n",
            "<class 'numpy.ndarray'>\n",
            "<class 'numpy.ndarray'>\n",
            "<class 'numpy.ndarray'>\n",
            "<class 'numpy.ndarray'>\n",
            "<class 'numpy.ndarray'>\n",
            "<class 'numpy.ndarray'>\n",
            "<class 'numpy.ndarray'>\n",
            "<class 'numpy.ndarray'>\n",
            "<class 'numpy.ndarray'>\n",
            "<class 'numpy.ndarray'>\n",
            "<class 'numpy.ndarray'>\n",
            "<class 'numpy.ndarray'>\n",
            "<class 'numpy.ndarray'>\n",
            "<class 'numpy.ndarray'>\n",
            "<class 'numpy.ndarray'>\n",
            "<class 'numpy.ndarray'>\n",
            "<class 'numpy.ndarray'>\n",
            "<class 'numpy.ndarray'>\n",
            "<class 'numpy.ndarray'>\n",
            "<class 'numpy.ndarray'>\n",
            "<class 'numpy.ndarray'>\n",
            "<class 'numpy.ndarray'>\n",
            "<class 'numpy.ndarray'>\n",
            "<class 'numpy.ndarray'>\n",
            "<class 'numpy.ndarray'>\n",
            "<class 'numpy.ndarray'>\n",
            "<class 'numpy.ndarray'>\n",
            "<class 'numpy.ndarray'>\n",
            "<class 'numpy.ndarray'>\n",
            "<class 'numpy.ndarray'>\n",
            "<class 'numpy.ndarray'>\n",
            "<class 'numpy.ndarray'>\n",
            "<class 'numpy.ndarray'>\n",
            "<class 'numpy.ndarray'>\n",
            "<class 'numpy.ndarray'>\n",
            "<class 'numpy.ndarray'>\n",
            "<class 'numpy.ndarray'>\n",
            "<class 'numpy.ndarray'>\n",
            "<class 'numpy.ndarray'>\n",
            "<class 'numpy.ndarray'>\n",
            "<class 'numpy.ndarray'>\n",
            "<class 'numpy.ndarray'>\n",
            "<class 'numpy.ndarray'>\n",
            "<class 'numpy.ndarray'>\n",
            "<class 'numpy.ndarray'>\n",
            "<class 'numpy.ndarray'>\n",
            "<class 'numpy.ndarray'>\n",
            "<class 'numpy.ndarray'>\n",
            "<class 'numpy.ndarray'>\n",
            "<class 'numpy.ndarray'>\n",
            "<class 'numpy.ndarray'>\n",
            "<class 'numpy.ndarray'>\n",
            "<class 'numpy.ndarray'>\n",
            "<class 'numpy.ndarray'>\n",
            "<class 'numpy.ndarray'>\n",
            "<class 'numpy.ndarray'>\n",
            "<class 'numpy.ndarray'>\n",
            "<class 'numpy.ndarray'>\n",
            "<class 'numpy.ndarray'>\n",
            "<class 'numpy.ndarray'>\n",
            "<class 'numpy.ndarray'>\n",
            "<class 'numpy.ndarray'>\n",
            "<class 'numpy.ndarray'>\n",
            "<class 'numpy.ndarray'>\n",
            "<class 'numpy.ndarray'>\n",
            "<class 'numpy.ndarray'>\n",
            "<class 'numpy.ndarray'>\n",
            "<class 'numpy.ndarray'>\n",
            "<class 'numpy.ndarray'>\n",
            "<class 'numpy.ndarray'>\n",
            "<class 'numpy.ndarray'>\n",
            "<class 'numpy.ndarray'>\n",
            "<class 'numpy.ndarray'>\n",
            "<class 'numpy.ndarray'>\n",
            "<class 'numpy.ndarray'>\n",
            "<class 'numpy.ndarray'>\n",
            "<class 'numpy.ndarray'>\n",
            "<class 'numpy.ndarray'>\n",
            "<class 'numpy.ndarray'>\n",
            "<class 'numpy.ndarray'>\n",
            "<class 'numpy.ndarray'>\n",
            "<class 'numpy.ndarray'>\n",
            "<class 'numpy.ndarray'>\n",
            "<class 'numpy.ndarray'>\n",
            "<class 'numpy.ndarray'>\n",
            "<class 'numpy.ndarray'>\n",
            "<class 'numpy.ndarray'>\n",
            "<class 'numpy.ndarray'>\n",
            "<class 'numpy.ndarray'>\n",
            "<class 'numpy.ndarray'>\n",
            "<class 'numpy.ndarray'>\n",
            "<class 'numpy.ndarray'>\n",
            "<class 'numpy.ndarray'>\n",
            "<class 'numpy.ndarray'>\n",
            "<class 'numpy.ndarray'>\n",
            "<class 'numpy.ndarray'>\n",
            "<class 'numpy.ndarray'>\n",
            "<class 'numpy.ndarray'>\n",
            "<class 'numpy.ndarray'>\n",
            "<class 'numpy.ndarray'>\n",
            "<class 'numpy.ndarray'>\n",
            "<class 'numpy.ndarray'>\n",
            "<class 'numpy.ndarray'>\n",
            "<class 'numpy.ndarray'>\n",
            "<class 'numpy.ndarray'>\n",
            "<class 'numpy.ndarray'>\n",
            "<class 'numpy.ndarray'>\n",
            "<class 'numpy.ndarray'>\n",
            "<class 'numpy.ndarray'>\n",
            "<class 'numpy.ndarray'>\n",
            "<class 'numpy.ndarray'>\n",
            "<class 'numpy.ndarray'>\n",
            "<class 'numpy.ndarray'>\n",
            "<class 'numpy.ndarray'>\n",
            "<class 'numpy.ndarray'>\n",
            "<class 'numpy.ndarray'>\n",
            "<class 'numpy.ndarray'>\n",
            "<class 'numpy.ndarray'>\n",
            "<class 'numpy.ndarray'>\n",
            "<class 'numpy.ndarray'>\n",
            "<class 'numpy.ndarray'>\n",
            "<class 'numpy.ndarray'>\n",
            "FPR has 9 elements: [1.         1.         1.         1.         1.         1.\n",
            " 0.66666667 0.66666667 0.33333333]\n",
            " TPR has 9 elements: [1.         0.66666667 0.66666667 0.5        0.33333333 0.16666667\n",
            " 0.16666667 0.         0.        ]\n"
          ]
        },
        {
          "name": "stderr",
          "output_type": "stream",
          "text": [
            "C:\\Users\\ACER\\AppData\\Local\\Temp\\ipykernel_124424\\1086795600.py:43: UserWarning: FigureCanvasAgg is non-interactive, and thus cannot be shown\n",
            "  fig.show()\n"
          ]
        },
        {
          "data": {
            "image/png": "[encoded data removed]",
            "text/plain": [
              "<Figure size 800x600 with 1 Axes>"
            ]
          },
          "metadata": {},
          "output_type": "display_data"
        }
      ],
      "source": [
        "ROC(X_test, y_test, L1_LR)"
      ]
    },
    {
      "cell_type": "code",
      "execution_count": 441,
      "id": "1d51753c",
      "metadata": {},
      "outputs": [
        {
          "name": "stdout",
          "output_type": "stream",
          "text": [
            "<class 'numpy.ndarray'>\n",
            "<class 'numpy.ndarray'>\n",
            "<class 'numpy.ndarray'>\n",
            "<class 'numpy.ndarray'>\n",
            "<class 'numpy.ndarray'>\n",
            "<class 'numpy.ndarray'>\n",
            "<class 'numpy.ndarray'>\n",
            "<class 'numpy.ndarray'>\n",
            "<class 'numpy.ndarray'>\n",
            "<class 'numpy.ndarray'>\n",
            "<class 'numpy.ndarray'>\n",
            "<class 'numpy.ndarray'>\n",
            "<class 'numpy.ndarray'>\n",
            "<class 'numpy.ndarray'>\n",
            "<class 'numpy.ndarray'>\n",
            "<class 'numpy.ndarray'>\n",
            "<class 'numpy.ndarray'>\n",
            "<class 'numpy.ndarray'>\n",
            "<class 'numpy.ndarray'>\n",
            "<class 'numpy.ndarray'>\n",
            "<class 'numpy.ndarray'>\n",
            "<class 'numpy.ndarray'>\n",
            "<class 'numpy.ndarray'>\n",
            "<class 'numpy.ndarray'>\n",
            "<class 'numpy.ndarray'>\n",
            "<class 'numpy.ndarray'>\n",
            "<class 'numpy.ndarray'>\n",
            "<class 'numpy.ndarray'>\n",
            "<class 'numpy.ndarray'>\n",
            "<class 'numpy.ndarray'>\n",
            "<class 'numpy.ndarray'>\n",
            "<class 'numpy.ndarray'>\n",
            "<class 'numpy.ndarray'>\n",
            "<class 'numpy.ndarray'>\n",
            "<class 'numpy.ndarray'>\n",
            "<class 'numpy.ndarray'>\n",
            "<class 'numpy.ndarray'>\n",
            "<class 'numpy.ndarray'>\n",
            "<class 'numpy.ndarray'>\n",
            "<class 'numpy.ndarray'>\n",
            "<class 'numpy.ndarray'>\n",
            "<class 'numpy.ndarray'>\n",
            "<class 'numpy.ndarray'>\n",
            "<class 'numpy.ndarray'>\n",
            "<class 'numpy.ndarray'>\n",
            "<class 'numpy.ndarray'>\n",
            "<class 'numpy.ndarray'>\n",
            "<class 'numpy.ndarray'>\n",
            "<class 'numpy.ndarray'>\n",
            "<class 'numpy.ndarray'>\n",
            "<class 'numpy.ndarray'>\n",
            "<class 'numpy.ndarray'>\n",
            "<class 'numpy.ndarray'>\n",
            "<class 'numpy.ndarray'>\n",
            "<class 'numpy.ndarray'>\n",
            "<class 'numpy.ndarray'>\n",
            "<class 'numpy.ndarray'>\n",
            "<class 'numpy.ndarray'>\n",
            "<class 'numpy.ndarray'>\n",
            "<class 'numpy.ndarray'>\n",
            "<class 'numpy.ndarray'>\n",
            "<class 'numpy.ndarray'>\n",
            "<class 'numpy.ndarray'>\n",
            "<class 'numpy.ndarray'>\n",
            "<class 'numpy.ndarray'>\n",
            "<class 'numpy.ndarray'>\n",
            "<class 'numpy.ndarray'>\n",
            "<class 'numpy.ndarray'>\n",
            "<class 'numpy.ndarray'>\n",
            "<class 'numpy.ndarray'>\n",
            "<class 'numpy.ndarray'>\n",
            "<class 'numpy.ndarray'>\n",
            "<class 'numpy.ndarray'>\n",
            "<class 'numpy.ndarray'>\n",
            "<class 'numpy.ndarray'>\n",
            "<class 'numpy.ndarray'>\n",
            "<class 'numpy.ndarray'>\n",
            "<class 'numpy.ndarray'>\n",
            "<class 'numpy.ndarray'>\n",
            "<class 'numpy.ndarray'>\n",
            "<class 'numpy.ndarray'>\n",
            "<class 'numpy.ndarray'>\n",
            "<class 'numpy.ndarray'>\n",
            "<class 'numpy.ndarray'>\n",
            "<class 'numpy.ndarray'>\n",
            "<class 'numpy.ndarray'>\n",
            "<class 'numpy.ndarray'>\n",
            "<class 'numpy.ndarray'>\n",
            "<class 'numpy.ndarray'>\n",
            "<class 'numpy.ndarray'>\n",
            "<class 'numpy.ndarray'>\n",
            "<class 'numpy.ndarray'>\n",
            "<class 'numpy.ndarray'>\n",
            "<class 'numpy.ndarray'>\n",
            "<class 'numpy.ndarray'>\n",
            "<class 'numpy.ndarray'>\n",
            "<class 'numpy.ndarray'>\n",
            "<class 'numpy.ndarray'>\n",
            "<class 'numpy.ndarray'>\n",
            "<class 'numpy.ndarray'>\n",
            "<class 'numpy.ndarray'>\n",
            "<class 'numpy.ndarray'>\n",
            "<class 'numpy.ndarray'>\n",
            "<class 'numpy.ndarray'>\n",
            "<class 'numpy.ndarray'>\n",
            "<class 'numpy.ndarray'>\n",
            "<class 'numpy.ndarray'>\n",
            "<class 'numpy.ndarray'>\n",
            "<class 'numpy.ndarray'>\n",
            "<class 'numpy.ndarray'>\n",
            "<class 'numpy.ndarray'>\n",
            "<class 'numpy.ndarray'>\n",
            "<class 'numpy.ndarray'>\n",
            "<class 'numpy.ndarray'>\n",
            "<class 'numpy.ndarray'>\n",
            "<class 'numpy.ndarray'>\n",
            "<class 'numpy.ndarray'>\n",
            "<class 'numpy.ndarray'>\n",
            "<class 'numpy.ndarray'>\n",
            "<class 'numpy.ndarray'>\n",
            "<class 'numpy.ndarray'>\n",
            "<class 'numpy.ndarray'>\n",
            "<class 'numpy.ndarray'>\n",
            "<class 'numpy.ndarray'>\n",
            "<class 'numpy.ndarray'>\n",
            "<class 'numpy.ndarray'>\n",
            "<class 'numpy.ndarray'>\n",
            "<class 'numpy.ndarray'>\n",
            "<class 'numpy.ndarray'>\n",
            "<class 'numpy.ndarray'>\n",
            "<class 'numpy.ndarray'>\n",
            "<class 'numpy.ndarray'>\n",
            "<class 'numpy.ndarray'>\n",
            "<class 'numpy.ndarray'>\n",
            "<class 'numpy.ndarray'>\n",
            "<class 'numpy.ndarray'>\n",
            "<class 'numpy.ndarray'>\n",
            "<class 'numpy.ndarray'>\n",
            "<class 'numpy.ndarray'>\n",
            "<class 'numpy.ndarray'>\n",
            "<class 'numpy.ndarray'>\n",
            "<class 'numpy.ndarray'>\n",
            "<class 'numpy.ndarray'>\n",
            "<class 'numpy.ndarray'>\n",
            "<class 'numpy.ndarray'>\n",
            "<class 'numpy.ndarray'>\n",
            "<class 'numpy.ndarray'>\n",
            "<class 'numpy.ndarray'>\n",
            "<class 'numpy.ndarray'>\n",
            "<class 'numpy.ndarray'>\n",
            "<class 'numpy.ndarray'>\n",
            "<class 'numpy.ndarray'>\n",
            "<class 'numpy.ndarray'>\n",
            "<class 'numpy.ndarray'>\n",
            "<class 'numpy.ndarray'>\n",
            "<class 'numpy.ndarray'>\n",
            "<class 'numpy.ndarray'>\n",
            "<class 'numpy.ndarray'>\n",
            "<class 'numpy.ndarray'>\n",
            "<class 'numpy.ndarray'>\n",
            "<class 'numpy.ndarray'>\n",
            "<class 'numpy.ndarray'>\n",
            "FPR has 9 elements: [1.         1.         1.         1.         1.         1.\n",
            " 0.66666667 0.66666667 0.        ]\n",
            " TPR has 9 elements: [1.         0.83333333 0.66666667 0.5        0.33333333 0.16666667\n",
            " 0.16666667 0.         0.        ]\n"
          ]
        },
        {
          "name": "stderr",
          "output_type": "stream",
          "text": [
            "C:\\Users\\ACER\\AppData\\Local\\Temp\\ipykernel_124424\\1086795600.py:43: UserWarning: FigureCanvasAgg is non-interactive, and thus cannot be shown\n",
            "  fig.show()\n"
          ]
        },
        {
          "data": {
            "image/png": "[encoded data removed]",
            "text/plain": [
              "<Figure size 800x600 with 1 Axes>"
            ]
          },
          "metadata": {},
          "output_type": "display_data"
        }
      ],
      "source": [
        "ROC(X_test, y_test, L2_LR)"
      ]
    },
    {
      "cell_type": "markdown",
      "id": "47c9e585",
      "metadata": {},
      "source": [
        "### Extra: Hyperparameter tuning with Scikit-Learn"
      ]
    },
    {
      "cell_type": "code",
      "execution_count": null,
      "id": "f7890764",
      "metadata": {},
      "outputs": [
        {
          "name": "stdout",
          "output_type": "stream",
          "text": [
            "{'C': 1.6946191973556188} 0.5142857142857142\n"
          ]
        }
      ],
      "source": [
        "from sklearn.model_selection import RandomizedSearchCV\n",
        "from sklearn.linear_model import LogisticRegression\n",
        "from scipy.stats import uniform\n",
        "\n",
        "# L1\n",
        "lr = LogisticRegression(solver=\"saga\", penalty='l1', max_iter=10000)\n",
        "domain = {\"C\":uniform(loc=0, scale=4)}\n",
        "clf = RandomizedSearchCV(lr, domain, random_state=0)\n",
        "clf.fit(X, y)\n",
        "print(clf.best_params_, clf.best_score_)"
      ]
    },
    {
      "cell_type": "code",
      "execution_count": null,
      "id": "e26acb49",
      "metadata": {},
      "outputs": [
        {
          "name": "stdout",
          "output_type": "stream",
          "text": [
            "{'C': 3.854651042004117} 0.5428571428571429\n"
          ]
        }
      ],
      "source": [
        "# L2\n",
        "lr = LogisticRegression(solver=\"saga\", penalty='l2', max_iter=10000)\n",
        "domain = {\"C\":uniform(loc=0, scale=4)}\n",
        "clf = RandomizedSearchCV(lr, domain, random_state=0)\n",
        "clf.fit(X, y)\n",
        "print(clf.best_params_, clf.best_score_)"
      ]
    },
    {
      "cell_type": "code",
      "execution_count": null,
      "id": "7f4028e7",
      "metadata": {},
      "outputs": [
        {
          "name": "stdout",
          "output_type": "stream",
          "text": [
            "{'C': 0.08087358976130288, 'l1_ratio': 0.832619845547938} 0.5142857142857142\n"
          ]
        }
      ],
      "source": [
        "# Elasticnet\n",
        "lr = LogisticRegression(solver=\"saga\", penalty='elasticnet', max_iter=10000)\n",
        "domain = {\"l1_ratio\": uniform(), \"C\": uniform(loc=0, scale=4)}\n",
        "clf = RandomizedSearchCV(lr, domain, random_state=0)\n",
        "clf.fit(X, y)\n",
        "print(clf.best_params_, clf.best_score_)"
      ]
    },
    {
      "cell_type": "code",
      "execution_count": 442,
      "id": "46cfd08f",
      "metadata": {},
      "outputs": [
        {
          "data": {
            "text/plain": [
              "[0.1]"
            ]
          },
          "execution_count": 442,
          "metadata": {},
          "output_type": "execute_result"
        }
      ],
      "source": [
        "lam"
      ]
    },
    {
      "cell_type": "markdown",
      "id": "1ec75cf0",
      "metadata": {},
      "source": []
    },
    {
      "cell_type": "code",
      "execution_count": 443,
      "id": "2b33fb3a",
      "metadata": {},
      "outputs": [
        {
          "data": {
            "text/plain": [
              "[0.5, 0.1]"
            ]
          },
          "execution_count": 443,
          "metadata": {},
          "output_type": "execute_result"
        }
      ],
      "source": [
        "lam_2"
      ]
    },
    {
      "cell_type": "code",
      "execution_count": null,
      "id": "87050548",
      "metadata": {},
      "outputs": [],
      "source": []
    }
  ],
  "metadata": {
    "colab": {
      "provenance": []
    },
    "kernelspec": {
      "display_name": "base",
      "language": "python",
      "name": "python3"
    },
    "language_info": {
      "codemirror_mode": {
        "name": "ipython",
        "version": 3
      },
      "file_extension": ".py",
      "mimetype": "text/x-python",
      "name": "python",
      "nbconvert_exporter": "python",
      "pygments_lexer": "ipython3",
      "version": "3.12.7"
    }
  },
  "nbformat": 4,
  "nbformat_minor": 5
}
